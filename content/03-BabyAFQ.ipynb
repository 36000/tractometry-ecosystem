{
 "cells": [
  {
   "cell_type": "markdown",
   "id": "4fd11f92",
   "metadata": {},
   "source": [
    "# BabyAFQ : tractometry for infant dMRI data\n",
    "\n",
    "The following is an example of tractometry for infant bundles. This example and\n",
    "resulting pyAFQ support for pediatric bundles was inspired by and largely due\n",
    "to the work of Grotheer et al. [Grotheer2022]_, as implemented in\n",
    "[Grotheer2023]_."
   ]
  },
  {
   "cell_type": "code",
   "execution_count": null,
   "id": "7062eb28",
   "metadata": {},
   "outputs": [],
   "source": [
    "from paths import afq_home"
   ]
  },
  {
   "cell_type": "code",
   "execution_count": null,
   "id": "d93a2f79",
   "metadata": {},
   "outputs": [],
   "source": [
    "import os.path as op\n",
    "import wget\n",
    "import zipfile\n",
    "import plotly\n",
    "\n",
    "from AFQ.api.group import GroupAFQ\n",
    "import AFQ.api.bundle_dict as abd\n",
    "import AFQ.data.fetch as afd"
   ]
  },
  {
   "cell_type": "markdown",
   "id": "dffae907",
   "metadata": {},
   "source": [
    "## Baby dMRI data\n",
    "\n",
    "Infant MRI data are quite different from data acquired in grownup\n",
    "participants, and even from children that are just a few years older.\n",
    "First, there is the rather obvious difference in size. Baby brains are\n",
    "approximately 25% the size of grownup brains at birth. But there are also\n",
    "often less known differences in brain tissue properties. For example, the\n",
    "myelin content of white matter is much lower in infants than in grownups.\n",
    "This is important because the diffusion signal that we measure with dMRI is\n",
    "sensitive to the myelin content, and it means that the dMRI signal differs\n",
    "quite a bit in newborn infants.\n"
   ]
  },
  {
   "cell_type": "code",
   "execution_count": null,
   "id": "be9a9849",
   "metadata": {},
   "outputs": [],
   "source": [
    "baby_example_folder = op.join(os.environ[\"AFQ_HOME\"], \"baby_example\")"
   ]
  },
  {
   "cell_type": "markdown",
   "id": "aef4ad61",
   "metadata": {},
   "source": [
    "## Initialize a GroupAFQ object\n",
    "\n",
    "Now that the data is downloaded and organized in a BIDS-compliant structure,\n",
    "we can start running pyAFQ on it. We start by initializing a GroupAFQ object.\n"
   ]
  },
  {
   "cell_type": "code",
   "execution_count": null,
   "id": "83204a93",
   "metadata": {},
   "outputs": [],
   "source": [
    "myafq = GroupAFQ(\n",
    "    bids_path=op.join(baby_example_folder,\n",
    "                      \"example_bids_subject\"),\n",
    "    preproc_pipeline=\"vistasoft\",\n",
    "    reg_template_spec=afd.read_pediatric_templates(\n",
    "    )[\"UNCNeo-withCerebellum-for-babyAFQ\"],\n",
    "    reg_subject_spec=\"b0\",\n",
    "    bundle_info=abd.baby_bd(),\n",
    "    import_tract={\n",
    "        \"suffix\": \"tractography\", \"scope\": \"mrtrix\"},\n",
    ")"
   ]
  },
  {
   "cell_type": "markdown",
   "id": "ce302544",
   "metadata": {},
   "source": [
    "## Running the pipeline\n",
    "\n",
    "A call to the `export` function will trigger the pyAFQ pipeline. This will\n",
    "run tractography, bundle segmentation, and bundle cleaning.\n"
   ]
  },
  {
   "cell_type": "code",
   "execution_count": null,
   "id": "519ba24e",
   "metadata": {},
   "outputs": [],
   "source": [
    "viz = myafq.export(\"profiles\")"
   ]
  },
  {
   "cell_type": "markdown",
   "id": "29472950",
   "metadata": {},
   "source": [
    "## Viewing the results\n",
    "\n",
    "One way to view the results is to open the file named\n",
    "`sub-01_ses-01_dwi_space-RASMM_model-probCSD_algo-AFQ_desc-viz_dwi.html`\n",
    "in your browser.\n"
   ]
  },
  {
   "cell_type": "code",
   "execution_count": null,
   "id": "42c767fe",
   "metadata": {},
   "outputs": [],
   "source": [
    "plotly.io.show(viz[\"01\"][0])"
   ]
  },
  {
   "cell_type": "markdown",
   "id": "ab66cb4a",
   "metadata": {},
   "source": [
    "## References\n",
    "\n",
    "- [Grotheer2021] Grotheer, Mareike, Mona Rosenke, Hua Wu, Holly Kular,\n",
    "  Francesca R. Querdasi, Vaidehi S. Natu, Jason D. Yeatman,\n",
    "  and Kalanit Grill-Spector. \"White matter myelination during\n",
    "  early infancy is linked to spatial gradients and myelin\n",
    "  content at birth.\" Nature communications 13: 997.\n",
    "\n",
    "- [Grotheer2023] Grotheer, Mareike, David Bloom, John Kruper,\n",
    "  Adam Richie-Halford, Stephanie Zika,\n",
    "  Vicente A. Aguilera González, Jason D. Yeatman,\n",
    "  Kalanit Grill-Spector, and Ariel Rokem. \"Human white matter\n",
    "  myelinates faster in utero than ex utero.\" Proceedings\n",
    "  of the National Academy of Sciences 120: e2303491120."
   ]
  }
 ],
 "metadata": {
  "kernelspec": {
   "display_name": "afq",
   "language": "python",
   "name": "python3"
  },
  "language_info": {
   "codemirror_mode": {
    "name": "ipython",
    "version": 3
   },
   "file_extension": ".py",
   "mimetype": "text/x-python",
   "name": "python",
   "nbconvert_exporter": "python",
   "pygments_lexer": "ipython3",
   "version": "3.11.10"
  }
 },
 "nbformat": 4,
 "nbformat_minor": 5
}
