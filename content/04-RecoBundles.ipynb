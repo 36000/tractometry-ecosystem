{
 "cells": [
  {
   "cell_type": "markdown",
   "id": "aefc4b07",
   "metadata": {},
   "source": [
    "# =========================================\n",
    "# Using RecoBundles for bundle recognition\n",
    "# =========================================\n",
    "\n",
    "For bundle recognition, pyAFQ defaults to use the waypoint ROI approach\n",
    "described in [Yeatman2012]_. However, as an alternative approach, pyAFQ also\n",
    "supports using the RecoBundles algorithm [Garyfallidis2017]_, which uses an\n",
    "atlas of bundles in streamlines. This example shows how to\n",
    "use RecoBundles for bundle recognition.\n",
    "\n",
    "The code closely resembles the code used in the pyAFQ API tutorial example.\n"
   ]
  },
  {
   "cell_type": "code",
   "execution_count": null,
   "id": "851970ec",
   "metadata": {},
   "outputs": [],
   "source": [
    "import os\n",
    "import os.path as op\n",
    "\n",
    "home = op.expanduser(\"~\")\n",
    "pwd = op.dirname(os.getcwd())\n",
    "\n",
    "os.environ[\"TEMPLATEFLOW_HOME\"] = op.join(home, \"data_\", \"tractometry\")\n",
    "os.environ[\"DIPY_HOME\"] = op.join(home, \"data_\", \"tractometry\")\n",
    "afq_home = op.join(home, \"data_\", \"tractometry\")\n",
    "os.makedirs(afq_home, exist_ok=True)\n",
    "os.environ[\"AFQ_HOME\"] = afq_home"
   ]
  },
  {
   "cell_type": "code",
   "execution_count": null,
   "id": "f15a0704",
   "metadata": {},
   "outputs": [],
   "source": [
    "import os.path as op\n",
    "import AFQ.data.fetch as afd\n",
    "from AFQ.api.group import GroupAFQ\n",
    "import AFQ.api.bundle_dict as abd\n",
    "import plotly\n",
    "\n",
    "afd.organize_stanford_data()\n",
    "\n",
    "tracking_params = dict(n_seeds=25000,\n",
    "                       random_seeds=True,\n",
    "                       rng_seed=42)"
   ]
  },
  {
   "cell_type": "markdown",
   "id": "8e636240",
   "metadata": {},
   "source": [
    "## Defining the segmentation params\n",
    "\n",
    "We also refer to bundle recognition as the \"segmentation\" of the tractogram.\n",
    "Parameters of this process are set through a dictionary input to the\n",
    "`segmentation_params` argument of the GroupAFQ object. In this case, we\n",
    "use `abd.reco_bd(16)`, which tells pyAFQ to use the RecoBundles\n",
    "algorithm for bundle recognition.\n"
   ]
  },
  {
   "cell_type": "code",
   "execution_count": null,
   "id": "38a0c123",
   "metadata": {},
   "outputs": [],
   "source": [
    "myafq = GroupAFQ(\n",
    "    output_dir=op.join(afd.afq_home, 'stanford_hardi', 'derivatives',\n",
    "                       'recobundles'),\n",
    "    bids_path=op.join(afd.afq_home, 'stanford_hardi'),\n",
    "    # Set the algorithm to use RecoBundles for bundle recognition:\n",
    "    bundle_info=abd.reco_bd(16),\n",
    "    preproc_pipeline='vistasoft',\n",
    "    tracking_params=tracking_params)\n",
    "\n",
    "myafq.export(\"profiles\")"
   ]
  },
  {
   "cell_type": "code",
   "execution_count": null,
   "id": "7979bf44",
   "metadata": {},
   "outputs": [],
   "source": [
    "plotly.io.show(myafq.export(\"all_bundles_figure\")[\"01\"][0])"
   ]
  },
  {
   "cell_type": "markdown",
   "id": "62c5bb72",
   "metadata": {},
   "source": [
    "## References\n",
    "\n",
    "- [Garyfallidis2017] Garyfallidis, Eleftherios, Marc-Alexandre Côté,\n",
    "  Francois Rheault, Jasmeen Sidhu, Janice Hau, Laurent\n",
    "  Petit, David Fortin, Stephen Cunanne, and Maxime\n",
    "  Descoteaux. 2017.“Recognition of White Matter Bundles\n",
    "  Using Local and Global Streamline-Based Registration and\n",
    "  Clustering.” NeuroImage 170: 283-295.\n"
   ]
  },
  {
   "cell_type": "code",
   "execution_count": null,
   "id": "b1c6c34b-0675-4b7e-bd77-a8a7151ac8d8",
   "metadata": {},
   "outputs": [],
   "source": []
  }
 ],
 "metadata": {
  "kernelspec": {
   "display_name": "afq11",
   "language": "python",
   "name": "python3"
  },
  "language_info": {
   "codemirror_mode": {
    "name": "ipython",
    "version": 3
   },
   "file_extension": ".py",
   "mimetype": "text/x-python",
   "name": "python",
   "nbconvert_exporter": "python",
   "pygments_lexer": "ipython3",
   "version": "3.11.8"
  }
 },
 "nbformat": 4,
 "nbformat_minor": 5
}
