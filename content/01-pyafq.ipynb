{
 "cells": [
  {
   "cell_type": "markdown",
   "metadata": {},
   "source": [
    "# pyAFQ: Automated Fiber Quantification in Python \n",
    "\n",
    "The core of the tractometry.org ecosystem is the pyAFQ software library. This\n",
    "library uses inputs from various other programs to perform the delineation of\n",
    "major white matter pathways and to quantify white matter tissue properties\n",
    "along their lengths - tract profiles. The final output of the program includes\n",
    "a tabular summary with these tract profiles for each subject in the dataset,\n",
    "and one merged table that includes the tract profiles for all of the subjects. \n",
    "\n",
    "Along the way, the program produces many different intermediate data, including \n",
    "tractography results, maps of tissue properties, and visualizations, which \n",
    "can be used for quality assurance of the data and processing.\n",
    "\n",
    "There are two ways to use pyAFQ: through a command line interface, and by \n",
    "writing Python code. Here, we will focus on the latter, using pyAFQ's \n",
    "Python Application Programming Interface (API)."
   ]
  },
  {
   "cell_type": "markdown",
   "metadata": {},
   "source": [
    "## Setup \n",
    "\n",
    "We start with a few setup steps. We start by importing the functionality that \n",
    "we will use from pyAFQ"
   ]
  },
  {
   "cell_type": "code",
   "execution_count": null,
   "metadata": {},
   "outputs": [],
   "source": [
    "import os\n",
    "import os.path as op\n",
    "\n",
    "pwd = op.dirname(os.getcwd())\n",
    "\n",
    "os.environ[\"TEMPLATEFLOW_HOME\"] = op.join(pwd, \"..\", \"data_\", \"tractometry\")\n",
    "os.environ[\"DIPY_HOME\"] = op.join(pwd, \"..\", \"data_\", \"tractometry\")\n",
    "os.environ[\"AFQ_HOME\"] = op.join(pwd, \"..\", \"data_\", \"tractometry\")\n"
   ]
  },
  {
   "cell_type": "code",
   "execution_count": null,
   "metadata": {},
   "outputs": [],
   "source": []
  },
  {
   "cell_type": "code",
   "execution_count": null,
   "metadata": {},
   "outputs": [],
   "source": [
    "import matplotlib.pyplot as plt\n",
    "import nibabel as nib\n",
    "import plotly\n",
    "import pandas as pd\n",
    "from AFQ.api.group import GroupAFQ"
   ]
  },
  {
   "cell_type": "markdown",
   "metadata": {},
   "source": []
  },
  {
   "cell_type": "markdown",
   "metadata": {},
   "source": [
    "## Set up tracking parameters \n",
    "\n",
    "\n",
    "We make create a `tracking_params` variable, which we will pass to the\n",
    "GroupAFQ object which specifies that we want 25,000 seeds randomly\n",
    "distributed in the white matter. We only do this to make this example \n",
    "faster and consume less space. We also set ``num_chunks`` to `True`,\n",
    "which will use ray to parallelize the tracking across all cores.\n",
    "This can be removed to process in serial, or set to use a particular\n",
    "distribution of work by setting `n_chunks` to an integer number.\n",
    "\n"
   ]
  },
  {
   "cell_type": "code",
   "execution_count": null,
   "metadata": {},
   "outputs": [],
   "source": [
    "tracking_params = dict(n_seeds=100000,\n",
    "                       random_seeds=True,\n",
    "                       rng_seed=2022,\n",
    "                       trx=True,\n",
    "                       num_chunks=True)"
   ]
  },
  {
   "cell_type": "code",
   "execution_count": null,
   "metadata": {},
   "outputs": [],
   "source": [
    "myafq = GroupAFQ(\n",
    "    bids_path=op.join('..', 'data_', 'tractometry', 'stanford_hardi'),\n",
    "    preproc_pipeline='vistasoft',\n",
    "    tracking_params=tracking_params,\n",
    "    viz_backend_spec='plotly_no_gif')"
   ]
  },
  {
   "cell_type": "markdown",
   "metadata": {},
   "source": [
    "## Recognizing the bundles and calculating tract profiles:\n",
    "Typically, users of pyAFQ are interested in calculating not only an overall\n",
    "map of the FA, but also the major white matter pathways (or bundles) and\n",
    "tract profiles of tissue properties along their length. To trigger the\n",
    "pyAFQ pipeline that calculates the profiles, users can call the\n",
    "`export('profiles')` method:\n",
    "\n",
    "```{alert}\n",
    "\n",
    "Running the code below triggers the full pipeline of operations leading to the\n",
    "computation of the tract profiles. Therefore, it takes a little while to run\n",
    "(about 10 minutes, typically)\n",
    "\n",
    "```\n"
   ]
  },
  {
   "cell_type": "code",
   "execution_count": null,
   "metadata": {},
   "outputs": [],
   "source": [
    "myafq.export('profiles')"
   ]
  },
  {
   "cell_type": "code",
   "execution_count": null,
   "metadata": {},
   "outputs": [],
   "source": [
    "bundle_html = myafq.export(\"all_bundles_figure\")\n",
    "plotly.io.show(bundle_html[\"01\"][0])"
   ]
  },
  {
   "cell_type": "markdown",
   "metadata": {},
   "source": [
    "We can even use altair to visualize the tract profiles in all\n",
    "of the bundles. We provide a more customizable interface for visualizing\n",
    "the tract profiles using altair.\n",
    "Again, to make this plot, it is required that you install with\n",
    "`pip install pyAFQ[plot]` so that you have the necessary dependencies.\n",
    "\n",
    "\n"
   ]
  },
  {
   "cell_type": "code",
   "execution_count": null,
   "metadata": {},
   "outputs": [],
   "source": [
    "profiles_df = myafq.combine_profiles()"
   ]
  },
  {
   "cell_type": "markdown",
   "metadata": {},
   "source": [
    "\n"
   ]
  },
  {
   "cell_type": "markdown",
   "metadata": {},
   "source": [
    "# Visualize tract profiles \n",
    "\n",
    "We will use the [dash](https://dash.plotly.com/) python library to construct a \n",
    "dashboard that displays the FA tract profiles of each one of the tracts:"
   ]
  },
  {
   "cell_type": "code",
   "execution_count": null,
   "metadata": {},
   "outputs": [],
   "source": [
    "from dash import Dash, dcc, html, Input, Output\n",
    "import plotly.express as px\n",
    "\n",
    "app = Dash(__name__)\n",
    "\n",
    "\n",
    "app.layout = html.Div([\n",
    "    html.H4('DTI FA Profiles'),\n",
    "    dcc.Graph(id=\"graph\"),\n",
    "    dcc.Checklist(\n",
    "        id=\"checklist\",\n",
    "        options=list(profiles_df.tractID.unique()),\n",
    "        value=[\"Left Arcuate\", \"Right Arcuate\"],\n",
    "        inline=True\n",
    "    ),\n",
    "])\n",
    "\n",
    "\n",
    "@app.callback(\n",
    "    Output(\"graph\", \"figure\"),\n",
    "    Input(\"checklist\", \"value\"))\n",
    "def update_line_chart(tracts):\n",
    "    df = profiles_df\n",
    "    mask = df.tractID.isin(tracts)\n",
    "    fig = px.line(df[mask],\n",
    "        x=\"nodeID\", y=\"dti_fa\", color='tractID')\n",
    "    return fig\n",
    "\n",
    "\n",
    "app.run_server(debug=True)"
   ]
  },
  {
   "cell_type": "code",
   "execution_count": null,
   "metadata": {},
   "outputs": [],
   "source": []
  }
 ],
 "metadata": {
  "kernelspec": {
   "display_name": "afq",
   "language": "python",
   "name": "python3"
  },
  "language_info": {
   "codemirror_mode": {
    "name": "ipython",
    "version": 3
   },
   "file_extension": ".py",
   "mimetype": "text/x-python",
   "name": "python",
   "nbconvert_exporter": "python",
   "pygments_lexer": "ipython3",
   "version": "3.10.14"
  }
 },
 "nbformat": 4,
 "nbformat_minor": 0
}
